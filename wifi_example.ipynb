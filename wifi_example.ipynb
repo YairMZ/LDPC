{
 "cells": [
  {
   "cell_type": "code",
   "id": "611ff660",
   "metadata": {
    "pycharm": {
     "name": "#%%\n"
    }
   },
   "source": [
    "import numpy as np\n",
    "from bitstring import BitArray, Bits\n",
    "from ldpc.decoder import LogSpaDecoder, bsc_llr\n",
    "from ldpc.encoder import EncoderWiFi\n",
    "from ldpc.wifi_spec_codes import WiFiSpecCode"
   ],
   "execution_count": 4,
   "outputs": []
  },
  {
   "cell_type": "code",
   "execution_count": 5,
   "outputs": [],
   "source": [
    "# create information bearing bits\n",
    "rng = np.random.default_rng()\n",
    "info_bits = Bits(bytes=rng.bytes(41))[:648//2]\n",
    "# create encoder with frame of 648 bits, and rate 1/2. Possible rates and frame sizes are per the ieee802.11n spec.\n",
    "enc = EncoderWiFi(WiFiSpecCode.N648_R12)\n",
    "# encode bits\n",
    "encoded = enc.encode(info_bits)\n",
    "\n",
    "# verify validity of codeword\n",
    "h = enc.h\n",
    "np.dot(h, np.array(encoded)) % 2  # creates an all zero vector as required.\n",
    "\n",
    "# create a decoder which assumes a probability of p=0.05 for bit flips by the channel\n",
    "# allow up to 20 iterations for the bp decoder.\n",
    "p = 0.05\n",
    "decoder = LogSpaDecoder(bsc_llr(p=p), h=h, max_iter=20, info_idx=np.array([True]*324 + [False]*324))"
   ],
   "metadata": {
    "collapsed": false,
    "pycharm": {
     "name": "#%%\n"
    }
   }
  },
  {
   "cell_type": "code",
   "execution_count": 6,
   "outputs": [
    {
     "name": "stdout",
     "output_type": "stream",
     "text": [
      "True\n"
     ]
    }
   ],
   "source": [
    "# create a corrupted version of encoded codeword with error rate p\n",
    "corrupted = BitArray(encoded)\n",
    "no_errors = int(len(corrupted)*p)\n",
    "error_idx = rng.choice(len(corrupted), size=no_errors, replace=False)\n",
    "for idx in error_idx:\n",
    "    corrupted[idx] = not corrupted[idx]\n",
    "decoded, llr, decode_success, num_of_iterations = decoder.decode(corrupted)\n",
    "# Verify correct decoding\n",
    "print(Bits(decoded) == encoded)  # true\n",
    "info = decoder.info_bits(decoded)"
   ],
   "metadata": {
    "collapsed": false,
    "pycharm": {
     "name": "#%%\n"
    }
   }
  }
 ],
 "metadata": {
  "kernelspec": {
   "display_name": "Python 3 (ipykernel)",
   "language": "python",
   "name": "python3"
  },
  "language_info": {
   "codemirror_mode": {
    "name": "ipython",
    "version": 3
   },
   "file_extension": ".py",
   "mimetype": "text/x-python",
   "name": "python",
   "nbconvert_exporter": "python",
   "pygments_lexer": "ipython3",
   "version": "3.9.9"
  }
 },
 "nbformat": 4,
 "nbformat_minor": 5
}